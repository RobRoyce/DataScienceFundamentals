{
 "cells": [
  {
   "cell_type": "markdown",
   "metadata": {},
   "source": [
    "# Gradient Descent Update Rule\n",
    "\n",
    "Given the mean squared error as our loss function: \n",
    "\n",
    "$$MSE = \\frac{1}{n} \\sum_{i = 1}^n (y_i - (\\beta_0 + \\beta_1 x_i))^2$$\n",
    "\n",
    "We can find the update rule for a single iteration of gradient descent by finding the partial derivative with respect to both $\\beta_0$ and $\\beta_1$\n",
    "\n",
    "$$\n",
    "\\begin{align}\n",
    "\\frac{\\partial MSE}{\\partial \\beta_0} & = \\frac{1}{n} \\sum_{i = 1}^n \\frac{\\partial}{\\partial \\beta_0} (y_i - (\\beta_0 + \\beta_1 x_i))^2\\\\\n",
    "    & = - \\frac{2}{n} \\sum_{i = 1}^n (y_i - (\\beta_0 + \\beta_1 x_i))\n",
    "\\end{align}\n",
    "$$\n",
    "\n",
    "$$\n",
    "\\newline\n",
    "$$\n",
    "\n",
    "$$\n",
    "\\begin{align}\n",
    "\\frac{\\partial MSE}{\\partial \\beta_1} & = \\frac{1}{n} \\sum_{i = 1}^n \\frac{\\partial}{\\partial \\beta_1} (y_i - (\\beta_0 + \\beta_1 x_i))^2\\\\\n",
    "    & = - \\frac{2}{n} \\sum_{i = 1}^n x_i (y_i - (\\beta_0 + \\beta_1 x_i))\n",
    "\\end{align}\n",
    "$$\n",
    "\n",
    "Then, our update rule for gradient descent is as follows:\n",
    "\n",
    "$$\\beta_0 \\leftarrow \\beta_0 - \\lambda \\bigg[ - \\frac{2}{n} \\sum_{i = 1}^n (y_i - (\\beta_0 + \\beta_1 x_i)) \\bigg]$$\n",
    "\n",
    "$$\\beta_1 \\leftarrow \\beta_1 - \\lambda \\bigg[ - \\frac{2}{n} \\sum_{i = 1}^n x_i (y_i - (\\beta_0 + \\beta_1 x_i)) \\bigg]$$"
   ]
  },
  {
   "cell_type": "code",
   "execution_count": 105,
   "metadata": {},
   "outputs": [],
   "source": [
    "import numpy as np\n",
    "import pandas as pd\n",
    "import matplotlib.pyplot as plt\n",
    "from sklearn.linear_model import LinearRegression\n",
    "from sklearn.metrics import mean_squared_error\n",
    "from sklearn.metrics import r2_score"
   ]
  },
  {
   "cell_type": "code",
   "execution_count": 106,
   "metadata": {},
   "outputs": [],
   "source": [
    "def gradient_descent(X, y, lr=0.05, epochs=100):\n",
    "    N = len(X)\n",
    "    w0, w1 = np.random.rand(2, 1)\n",
    "\n",
    "    for i in range(epochs):       \n",
    "        f = y - (w0 + w1 * X)\n",
    "        w0 -= lr * (-2 * f.sum() / N)\n",
    "        w1 -= lr * (-2 * X.dot(f).sum() / N)\n",
    "\n",
    "    return [w0, w1]"
   ]
  },
  {
   "cell_type": "code",
   "execution_count": 107,
   "metadata": {},
   "outputs": [],
   "source": [
    "X = np.array([1, 2, 3, 5])\n",
    "y = np.array([0, 2, 4, 5])\n",
    "\n",
    "w = gradient_descent(X, y)\n",
    "y_pred = w[0] + w[1] * X"
   ]
  },
  {
   "cell_type": "code",
   "execution_count": 120,
   "metadata": {},
   "outputs": [
    {
     "name": "stdout",
     "output_type": "stream",
     "text": [
      "Final weights:  [-0.52387214] [1.19839874]\n",
      "Prediction:  [0.74716847 1.91615758 3.08514669 5.42312491]\n",
      "MSE:  0.39532038527024205\n",
      "R^2:  0.8927944717911208\n"
     ]
    },
    {
     "data": {
      "text/plain": [
       "<matplotlib.collections.PathCollection at 0x7f8ab15ab850>"
      ]
     },
     "execution_count": 120,
     "metadata": {},
     "output_type": "execute_result"
    },
    {
     "data": {
      "image/png": "[encoded data removed]",
      "text/plain": [
       "<Figure size 432x288 with 1 Axes>"
      ]
     },
     "metadata": {
      "needs_background": "light"
     },
     "output_type": "display_data"
    }
   ],
   "source": [
    "print('Final weights: ', w0, w1)\n",
    "print('Prediction: ', y_pred)\n",
    "print('MSE: ', mean_squared_error(y, y_pred))\n",
    "print('R^2: ', r2_score(y, y_pred))\n",
    "\n",
    "plt.plot(X, y_pred)\n",
    "plt.scatter(X, y)"
   ]
  },
  {
   "cell_type": "markdown",
   "metadata": {},
   "source": [
    "# Model Fit\n",
    "We see that $R^2 = 0.893$, which means the variation in y can be explained relatively accurately by X.\n",
    "\n",
    "From our model, $Y = \\beta_0 + \\beta_1 X$, we can interpret $\\beta_0$ to be the y-intercept and $\\beta_1$ to be the slope of the line."
   ]
  },
  {
   "cell_type": "code",
   "execution_count": 121,
   "metadata": {},
   "outputs": [],
   "source": [
    "x = np.linspace(0, 100, 500)\n",
    "y = x + 2 * np.random.randn(len(x))"
   ]
  },
  {
   "cell_type": "code",
   "execution_count": null,
   "metadata": {},
   "outputs": [],
   "source": []
  }
 ],
 "metadata": {
  "kernelspec": {
   "display_name": "Python 3",
   "language": "python",
   "name": "python3"
  },
  "language_info": {
   "codemirror_mode": {
    "name": "ipython",
    "version": 3
   },
   "file_extension": ".py",
   "mimetype": "text/x-python",
   "name": "python",
   "nbconvert_exporter": "python",
   "pygments_lexer": "ipython3",
   "version": "3.8.5"
  }
 },
 "nbformat": 4,
 "nbformat_minor": 4
}
